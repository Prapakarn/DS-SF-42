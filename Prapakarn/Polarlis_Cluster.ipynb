{
 "cells": [
  {
   "cell_type": "code",
   "execution_count": 1,
   "metadata": {
    "collapsed": true
   },
   "outputs": [],
   "source": [
    "import pandas as pd\n",
    "import numpy as np \n",
    "import matplotlib.pyplot as plt\n",
    "%matplotlib inline\n",
    "from sklearn.cluster import KMeans\n",
    "from sklearn.metrics import silhouette_score\n",
    "from sklearn.preprocessing import StandardScaler\n",
    "from sklearn.datasets import make_blobs, make_moons, make_circles, make_classification\n",
    "plt.style.use(\"fivethirtyeight\")"
   ]
  },
  {
   "cell_type": "code",
   "execution_count": 44,
   "metadata": {
    "collapsed": true
   },
   "outputs": [],
   "source": [
    "#path_to_file = './datasets/GlobalDataset2017.csv'\n",
    "Global = pd.read_csv(\"./datasets/GlobalDataset2017.csv\")"
   ]
  },
  {
   "cell_type": "code",
   "execution_count": 36,
   "metadata": {
    "collapsed": true
   },
   "outputs": [],
   "source": [
    "##Global = df.drop(df[df==-99].index)"
   ]
  },
  {
   "cell_type": "code",
   "execution_count": 28,
   "metadata": {
    "collapsed": true
   },
   "outputs": [],
   "source": [
    "##a =[-99]\n",
    "#Global1 =Global[~Global.isin(a)]"
   ]
  },
  {
   "cell_type": "code",
   "execution_count": 59,
   "metadata": {},
   "outputs": [
    {
     "data": {
      "text/plain": [
       "0   -99\n",
       "dtype: int64"
      ]
     },
     "execution_count": 59,
     "metadata": {},
     "output_type": "execute_result"
    }
   ],
   "source": [
    "Global.typeOfLabourAgriculture.mode()"
   ]
  },
  {
   "cell_type": "code",
   "execution_count": 60,
   "metadata": {},
   "outputs": [
    {
     "data": {
      "text/plain": [
       "yearOfRegistration                            0\n",
       "Datasource                                    0\n",
       "gender                                        0\n",
       "ageBroad                                      0\n",
       "majorityStatus                                0\n",
       "majorityStatusAtExploit                       0\n",
       "majorityEntry                                 0\n",
       "citizenship                                   0\n",
       "meansOfControlDebtBondage                 46096\n",
       "meansOfControlTakesEarnings               44853\n",
       "meansOfControlRestrictsFinancialAccess    46982\n",
       "meansOfControlThreats                     44376\n",
       "meansOfControlPsychologicalAbuse          43740\n",
       "meansOfControlPhysicalAbuse               44522\n",
       "meansOfControlSexualAbuse                 46150\n",
       "meansOfControlFalsePromises               44510\n",
       "meansOfControlPsychoactiveSubstances      45748\n",
       "meansOfControlRestrictsMovement           44099\n",
       "meansOfControlRestrictsMedicalCare        46169\n",
       "meansOfControlExcessiveWorkingHours       45539\n",
       "meansOfControlUsesChildren                46993\n",
       "meansOfControlThreatOfLawEnforcement      46503\n",
       "meansOfControlWithholdsNecessities        45994\n",
       "meansOfControlWithholdsDocuments          46682\n",
       "meansOfControlOther                       45613\n",
       "meansOfControlNotSpecified                11872\n",
       "isForcedLabour                            23883\n",
       "isSexualExploit                           25957\n",
       "isOtherExploit                            18619\n",
       "isSexAndLabour                            26360\n",
       "isForcedMarriage                          36693\n",
       "isForcedMilitary                          36348\n",
       "isOrganRemoval                            36348\n",
       "typeOfLabourAgriculture                   28382\n",
       "typeOfLabourAquafarming                   28411\n",
       "typeOfLabourBegging                       28424\n",
       "typeOfLabourConstruction                  28102\n",
       "typeOfLabourDomesticWork                  26320\n",
       "typeOfLabourHospitality                   27208\n",
       "typeOfLabourIllicitActivities             28424\n",
       "typeOfLabourManufacturing                 28312\n",
       "typeOfLabourMiningOrDrilling              28424\n",
       "typeOfLabourPeddling                      28424\n",
       "typeOfLabourTransportation                28424\n",
       "typeOfLabourOther                         27203\n",
       "typeOfLabourNotSpecified                  27038\n",
       "typeOfSexProstitution                     28092\n",
       "typeOfSexPornography                      40841\n",
       "typeOfSexRemoteInteractiveServices        40841\n",
       "typeOfSexPrivateSexualServices            40841\n",
       "isAbduction                               32201\n",
       "RecruiterRelationship                         0\n",
       "CountryOfExploitation                         0\n",
       "recruiterRelationIntimatePartner           8211\n",
       "recruiterRelationFriend                    8211\n",
       "recruiterRelationFamily                    8211\n",
       "recruiterRelationOther                     8211\n",
       "recruiterRelationUnknown                      0\n",
       "dtype: int64"
      ]
     },
     "execution_count": 60,
     "metadata": {},
     "output_type": "execute_result"
    }
   ],
   "source": [
    "(Global == -99).sum()"
   ]
  },
  {
   "cell_type": "code",
   "execution_count": 54,
   "metadata": {},
   "outputs": [
    {
     "ename": "NameError",
     "evalue": "name 'columns' is not defined",
     "output_type": "error",
     "traceback": [
      "\u001b[1;31m\u001b[0m",
      "\u001b[1;31mNameError\u001b[0mTraceback (most recent call last)",
      "\u001b[1;32m<ipython-input-54-3401169eed6d>\u001b[0m in \u001b[0;36m<module>\u001b[1;34m()\u001b[0m\n\u001b[1;32m----> 1\u001b[1;33m \u001b[0mdf\u001b[0m\u001b[1;33m[\u001b[0m\u001b[1;34m'v_mode'\u001b[0m\u001b[1;33m]\u001b[0m \u001b[1;33m=\u001b[0m \u001b[0mGlobal\u001b[0m\u001b[1;33m.\u001b[0m\u001b[0mgroupby\u001b[0m\u001b[1;33m(\u001b[0m\u001b[0mlevel\u001b[0m\u001b[1;33m=\u001b[0m\u001b[1;36m0\u001b[0m\u001b[1;33m)\u001b[0m\u001b[1;33m[\u001b[0m\u001b[0mcolumns\u001b[0m\u001b[1;33m.\u001b[0m\u001b[0mstartswith\u001b[0m\u001b[1;33m(\u001b[0m\u001b[1;34m'is'\u001b[0m\u001b[1;33m)\u001b[0m\u001b[1;33m]\u001b[0m\u001b[1;33m.\u001b[0m\u001b[0mtransform\u001b[0m\u001b[1;33m(\u001b[0m \u001b[1;32mlambda\u001b[0m \u001b[0mx\u001b[0m\u001b[1;33m:\u001b[0m \u001b[0mx\u001b[0m\u001b[1;33m.\u001b[0m\u001b[0mfillna\u001b[0m\u001b[1;33m(\u001b[0m\u001b[0mx\u001b[0m\u001b[1;33m.\u001b[0m\u001b[0mmode\u001b[0m\u001b[1;33m(\u001b[0m\u001b[1;33m)\u001b[0m\u001b[1;33m[\u001b[0m\u001b[1;36m0\u001b[0m\u001b[1;33m]\u001b[0m\u001b[1;33m)\u001b[0m\u001b[1;33m)\u001b[0m\u001b[1;33m\u001b[0m\u001b[0m\n\u001b[0m",
      "\u001b[1;31mNameError\u001b[0m: name 'columns' is not defined"
     ]
    }
   ],
   "source": [
    "df['v_mode'] = Global.groupby(level=0)[columns.startswith('is')].transform( lambda x: x.fillna(x.mode()[0]))"
   ]
  },
  {
   "cell_type": "code",
   "execution_count": 45,
   "metadata": {},
   "outputs": [
    {
     "data": {
      "text/plain": [
       "['isForcedLabour',\n",
       " 'isSexualExploit',\n",
       " 'isOtherExploit',\n",
       " 'isSexAndLabour',\n",
       " 'isForcedMarriage',\n",
       " 'isForcedMilitary',\n",
       " 'isOrganRemoval',\n",
       " 'typeOfLabourAgriculture',\n",
       " 'typeOfLabourAquafarming',\n",
       " 'typeOfLabourBegging',\n",
       " 'typeOfLabourConstruction',\n",
       " 'typeOfLabourDomesticWork',\n",
       " 'typeOfLabourHospitality',\n",
       " 'typeOfLabourIllicitActivities',\n",
       " 'typeOfLabourManufacturing',\n",
       " 'typeOfLabourMiningOrDrilling',\n",
       " 'typeOfLabourPeddling',\n",
       " 'typeOfLabourTransportation',\n",
       " 'typeOfLabourOther',\n",
       " 'typeOfLabourNotSpecified',\n",
       " 'typeOfSexProstitution',\n",
       " 'typeOfSexPornography',\n",
       " 'typeOfSexRemoteInteractiveServices',\n",
       " 'typeOfSexPrivateSexualServices',\n",
       " 'isAbduction']"
      ]
     },
     "execution_count": 45,
     "metadata": {},
     "output_type": "execute_result"
    }
   ],
   "source": [
    "feature_col = [h for h in Global.columns if h.startswith(\"is\") or h.startswith(\"typeOf\")]\n",
    "feature_col"
   ]
  },
  {
   "cell_type": "code",
   "execution_count": 46,
   "metadata": {},
   "outputs": [
    {
     "data": {
      "text/plain": [
       "(47102, 58)"
      ]
     },
     "execution_count": 46,
     "metadata": {},
     "output_type": "execute_result"
    }
   ],
   "source": [
    "Global.shape"
   ]
  },
  {
   "cell_type": "code",
   "execution_count": 47,
   "metadata": {
    "collapsed": true
   },
   "outputs": [],
   "source": [
    "X = Global[feature_col]"
   ]
  },
  {
   "cell_type": "code",
   "execution_count": 48,
   "metadata": {},
   "outputs": [
    {
     "data": {
      "text/plain": [
       "array([1, 1, 0, ..., 1, 1, 1])"
      ]
     },
     "execution_count": 48,
     "metadata": {},
     "output_type": "execute_result"
    }
   ],
   "source": [
    "km3 = KMeans(n_clusters=3)\n",
    "\n",
    "#Fit model on data\n",
    "km3.fit(X)\n",
    "\n",
    "#Get the labels\n",
    "\n",
    "labels = km3.labels_\n",
    "\n",
    "labels"
   ]
  },
  {
   "cell_type": "code",
   "execution_count": 49,
   "metadata": {},
   "outputs": [
    {
     "data": {
      "text/plain": [
       "1    23723\n",
       "0    18678\n",
       "2     4701\n",
       "dtype: int64"
      ]
     },
     "execution_count": 49,
     "metadata": {},
     "output_type": "execute_result"
    }
   ],
   "source": [
    "pd.value_counts(labels)"
   ]
  },
  {
   "cell_type": "code",
   "execution_count": 50,
   "metadata": {},
   "outputs": [
    {
     "data": {
      "text/plain": [
       "array([[ -1.38143270e+01,  -1.33240711e+01,  -9.56483564e+00,\n",
       "         -1.39770318e+01,  -6.59469965e+01,  -6.59469965e+01,\n",
       "         -6.59469965e+01,   1.17250241e-02,   4.97911980e-03,\n",
       "          8.19145520e-03,   3.98329585e-02,   2.60199165e-02,\n",
       "          2.19509582e-03,  -9.37916411e-12,   1.60081379e-02,\n",
       "         -9.37916411e-12,   1.33847305e-03,  -9.37916411e-12,\n",
       "          2.37177428e-02,   7.51151087e-02,  -2.45976550e+01,\n",
       "         -6.67814541e+01,  -6.67844523e+01,  -6.67838634e+01,\n",
       "         -4.08994004e+01],\n",
       "       [ -8.85586562e+01,  -9.73012267e+01,  -6.98426422e+01,\n",
       "         -9.90000000e+01,  -9.84056401e+01,  -9.90000000e+01,\n",
       "         -9.90000000e+01,  -9.90000000e+01,  -9.89452009e+01,\n",
       "         -9.90000000e+01,  -9.88482485e+01,  -9.01309699e+01,\n",
       "         -9.50045525e+01,  -9.90000000e+01,  -9.85278843e+01,\n",
       "         -9.90000000e+01,  -9.90000000e+01,  -9.90000000e+01,\n",
       "         -9.49820849e+01,  -9.50579606e+01,  -9.60662648e+01,\n",
       "         -9.90000000e+01,  -9.90000000e+01,  -9.90000000e+01,\n",
       "         -9.90000000e+01],\n",
       "       [  7.41969794e-01,   6.48798128e-02,   6.38162094e-03,\n",
       "          4.89257605e-03,  -1.40887045e+01,  -3.85386088e+00,\n",
       "         -3.85386088e+00,  -9.81065731e+01,  -9.90000000e+01,\n",
       "         -9.90000000e+01,  -9.29161880e+01,  -9.90000000e+01,\n",
       "         -9.35456286e+01,  -9.90000000e+01,  -9.90000000e+01,\n",
       "         -9.90000000e+01,  -9.90000000e+01,  -9.90000000e+01,\n",
       "         -9.35449904e+01,  -8.96522017e+01,  -8.03977877e+00,\n",
       "         -9.51461391e+01,  -9.51461391e+01,  -9.51461391e+01,\n",
       "         -1.60261646e+01]])"
      ]
     },
     "execution_count": 50,
     "metadata": {},
     "output_type": "execute_result"
    }
   ],
   "source": [
    "#Centriod values\n",
    "centriods = km3.cluster_centers_\n",
    "\n",
    "centriods"
   ]
  },
  {
   "cell_type": "code",
   "execution_count": 51,
   "metadata": {},
   "outputs": [
    {
     "ename": "TypeError",
     "evalue": "unhashable type",
     "output_type": "error",
     "traceback": [
      "\u001b[1;31m\u001b[0m",
      "\u001b[1;31mTypeError\u001b[0mTraceback (most recent call last)",
      "\u001b[1;32m<ipython-input-51-28937f310669>\u001b[0m in \u001b[0;36m<module>\u001b[1;34m()\u001b[0m\n\u001b[0;32m      1\u001b[0m \u001b[0mplt\u001b[0m\u001b[1;33m.\u001b[0m\u001b[0mfigure\u001b[0m\u001b[1;33m(\u001b[0m\u001b[0mfigsize\u001b[0m\u001b[1;33m=\u001b[0m\u001b[1;33m(\u001b[0m\u001b[1;36m10\u001b[0m\u001b[1;33m,\u001b[0m\u001b[1;36m6\u001b[0m\u001b[1;33m)\u001b[0m\u001b[1;33m)\u001b[0m\u001b[1;33m\u001b[0m\u001b[0m\n\u001b[1;32m----> 2\u001b[1;33m \u001b[0mplt\u001b[0m\u001b[1;33m.\u001b[0m\u001b[0mscatter\u001b[0m\u001b[1;33m(\u001b[0m\u001b[0mX\u001b[0m\u001b[1;33m[\u001b[0m\u001b[1;33m:\u001b[0m\u001b[1;33m,\u001b[0m\u001b[1;36m0\u001b[0m\u001b[1;33m]\u001b[0m\u001b[1;33m,\u001b[0m \u001b[0mX\u001b[0m\u001b[1;33m[\u001b[0m\u001b[1;33m:\u001b[0m\u001b[1;33m,\u001b[0m\u001b[1;36m1\u001b[0m\u001b[1;33m]\u001b[0m\u001b[1;33m,\u001b[0m \u001b[0ms\u001b[0m\u001b[1;33m=\u001b[0m\u001b[1;36m68\u001b[0m\u001b[1;33m,\u001b[0m \u001b[0mc\u001b[0m\u001b[1;33m=\u001b[0m\u001b[0mlabels\u001b[0m\u001b[1;33m,\u001b[0m \u001b[0malpha\u001b[0m\u001b[1;33m=\u001b[0m \u001b[1;36m.6\u001b[0m\u001b[1;33m)\u001b[0m\u001b[1;33m\u001b[0m\u001b[0m\n\u001b[0m\u001b[0;32m      3\u001b[0m \u001b[0mplt\u001b[0m\u001b[1;33m.\u001b[0m\u001b[0mscatter\u001b[0m\u001b[1;33m(\u001b[0m\u001b[0mcentriods\u001b[0m\u001b[1;33m[\u001b[0m \u001b[1;33m:\u001b[0m \u001b[1;33m,\u001b[0m \u001b[1;36m0\u001b[0m\u001b[1;33m]\u001b[0m\u001b[1;33m,\u001b[0m \u001b[0mcentriods\u001b[0m\u001b[1;33m[\u001b[0m \u001b[1;33m:\u001b[0m \u001b[1;33m,\u001b[0m \u001b[1;36m1\u001b[0m\u001b[1;33m]\u001b[0m\u001b[1;33m,\u001b[0m \u001b[0ms\u001b[0m \u001b[1;33m=\u001b[0m \u001b[1;36m800\u001b[0m\u001b[1;33m,\u001b[0m \u001b[0mmarker\u001b[0m\u001b[1;33m=\u001b[0m\u001b[1;34m\"+\"\u001b[0m\u001b[1;33m,\u001b[0m \u001b[0mc\u001b[0m \u001b[1;33m=\u001b[0m \u001b[1;34m\"black\"\u001b[0m\u001b[1;33m)\u001b[0m\u001b[1;33m\u001b[0m\u001b[0m\n\u001b[0;32m      4\u001b[0m \u001b[0mplt\u001b[0m\u001b[1;33m.\u001b[0m\u001b[0mshow\u001b[0m\u001b[1;33m(\u001b[0m\u001b[1;33m)\u001b[0m\u001b[1;33m\u001b[0m\u001b[0m\n",
      "\u001b[1;32mC:\\Users\\prapa\\Anaconda2\\lib\\site-packages\\pandas\\core\\frame.pyc\u001b[0m in \u001b[0;36m__getitem__\u001b[1;34m(self, key)\u001b[0m\n\u001b[0;32m   1962\u001b[0m             \u001b[1;32mreturn\u001b[0m \u001b[0mself\u001b[0m\u001b[1;33m.\u001b[0m\u001b[0m_getitem_multilevel\u001b[0m\u001b[1;33m(\u001b[0m\u001b[0mkey\u001b[0m\u001b[1;33m)\u001b[0m\u001b[1;33m\u001b[0m\u001b[0m\n\u001b[0;32m   1963\u001b[0m         \u001b[1;32melse\u001b[0m\u001b[1;33m:\u001b[0m\u001b[1;33m\u001b[0m\u001b[0m\n\u001b[1;32m-> 1964\u001b[1;33m             \u001b[1;32mreturn\u001b[0m \u001b[0mself\u001b[0m\u001b[1;33m.\u001b[0m\u001b[0m_getitem_column\u001b[0m\u001b[1;33m(\u001b[0m\u001b[0mkey\u001b[0m\u001b[1;33m)\u001b[0m\u001b[1;33m\u001b[0m\u001b[0m\n\u001b[0m\u001b[0;32m   1965\u001b[0m \u001b[1;33m\u001b[0m\u001b[0m\n\u001b[0;32m   1966\u001b[0m     \u001b[1;32mdef\u001b[0m \u001b[0m_getitem_column\u001b[0m\u001b[1;33m(\u001b[0m\u001b[0mself\u001b[0m\u001b[1;33m,\u001b[0m \u001b[0mkey\u001b[0m\u001b[1;33m)\u001b[0m\u001b[1;33m:\u001b[0m\u001b[1;33m\u001b[0m\u001b[0m\n",
      "\u001b[1;32mC:\\Users\\prapa\\Anaconda2\\lib\\site-packages\\pandas\\core\\frame.pyc\u001b[0m in \u001b[0;36m_getitem_column\u001b[1;34m(self, key)\u001b[0m\n\u001b[0;32m   1969\u001b[0m         \u001b[1;31m# get column\u001b[0m\u001b[1;33m\u001b[0m\u001b[1;33m\u001b[0m\u001b[0m\n\u001b[0;32m   1970\u001b[0m         \u001b[1;32mif\u001b[0m \u001b[0mself\u001b[0m\u001b[1;33m.\u001b[0m\u001b[0mcolumns\u001b[0m\u001b[1;33m.\u001b[0m\u001b[0mis_unique\u001b[0m\u001b[1;33m:\u001b[0m\u001b[1;33m\u001b[0m\u001b[0m\n\u001b[1;32m-> 1971\u001b[1;33m             \u001b[1;32mreturn\u001b[0m \u001b[0mself\u001b[0m\u001b[1;33m.\u001b[0m\u001b[0m_get_item_cache\u001b[0m\u001b[1;33m(\u001b[0m\u001b[0mkey\u001b[0m\u001b[1;33m)\u001b[0m\u001b[1;33m\u001b[0m\u001b[0m\n\u001b[0m\u001b[0;32m   1972\u001b[0m \u001b[1;33m\u001b[0m\u001b[0m\n\u001b[0;32m   1973\u001b[0m         \u001b[1;31m# duplicate columns & possible reduce dimensionality\u001b[0m\u001b[1;33m\u001b[0m\u001b[1;33m\u001b[0m\u001b[0m\n",
      "\u001b[1;32mC:\\Users\\prapa\\Anaconda2\\lib\\site-packages\\pandas\\core\\generic.pyc\u001b[0m in \u001b[0;36m_get_item_cache\u001b[1;34m(self, item)\u001b[0m\n\u001b[0;32m   1641\u001b[0m         \u001b[1;34m\"\"\"Return the cached item, item represents a label indexer.\"\"\"\u001b[0m\u001b[1;33m\u001b[0m\u001b[0m\n\u001b[0;32m   1642\u001b[0m         \u001b[0mcache\u001b[0m \u001b[1;33m=\u001b[0m \u001b[0mself\u001b[0m\u001b[1;33m.\u001b[0m\u001b[0m_item_cache\u001b[0m\u001b[1;33m\u001b[0m\u001b[0m\n\u001b[1;32m-> 1643\u001b[1;33m         \u001b[0mres\u001b[0m \u001b[1;33m=\u001b[0m \u001b[0mcache\u001b[0m\u001b[1;33m.\u001b[0m\u001b[0mget\u001b[0m\u001b[1;33m(\u001b[0m\u001b[0mitem\u001b[0m\u001b[1;33m)\u001b[0m\u001b[1;33m\u001b[0m\u001b[0m\n\u001b[0m\u001b[0;32m   1644\u001b[0m         \u001b[1;32mif\u001b[0m \u001b[0mres\u001b[0m \u001b[1;32mis\u001b[0m \u001b[0mNone\u001b[0m\u001b[1;33m:\u001b[0m\u001b[1;33m\u001b[0m\u001b[0m\n\u001b[0;32m   1645\u001b[0m             \u001b[0mvalues\u001b[0m \u001b[1;33m=\u001b[0m \u001b[0mself\u001b[0m\u001b[1;33m.\u001b[0m\u001b[0m_data\u001b[0m\u001b[1;33m.\u001b[0m\u001b[0mget\u001b[0m\u001b[1;33m(\u001b[0m\u001b[0mitem\u001b[0m\u001b[1;33m)\u001b[0m\u001b[1;33m\u001b[0m\u001b[0m\n",
      "\u001b[1;31mTypeError\u001b[0m: unhashable type"
     ]
    },
    {
     "data": {
      "text/plain": [
       "<matplotlib.figure.Figure at 0xf055dd8>"
      ]
     },
     "metadata": {},
     "output_type": "display_data"
    }
   ],
   "source": [
    "plt.figure(figsize=(10,6))\n",
    "plt.scatter(X[:,0], X[:,1], s=68, c=labels, alpha= .6)\n",
    "plt.scatter(centriods[ : , 0], centriods[ : , 1], s = 800, marker=\"+\", c = \"black\")\n",
    "plt.show()"
   ]
  },
  {
   "cell_type": "code",
   "execution_count": null,
   "metadata": {
    "collapsed": true
   },
   "outputs": [],
   "source": []
  }
 ],
 "metadata": {
  "kernelspec": {
   "display_name": "Python 2",
   "language": "python",
   "name": "python2"
  },
  "language_info": {
   "codemirror_mode": {
    "name": "ipython",
    "version": 2
   },
   "file_extension": ".py",
   "mimetype": "text/x-python",
   "name": "python",
   "nbconvert_exporter": "python",
   "pygments_lexer": "ipython2",
   "version": "2.7.14"
  }
 },
 "nbformat": 4,
 "nbformat_minor": 2
}
