{
 "cells": [
  {
   "cell_type": "code",
   "execution_count": 1,
   "metadata": {},
   "outputs": [
    {
     "name": "stderr",
     "output_type": "stream",
     "text": [
      "C:\\Users\\prapa\\Anaconda2\\lib\\site-packages\\sklearn\\cross_validation.py:41: DeprecationWarning: This module was deprecated in version 0.18 in favor of the model_selection module into which all the refactored classes and functions are moved. Also note that the interface of the new CV iterators are different from that of this module. This module will be removed in 0.20.\n",
      "  \"This module will be removed in 0.20.\", DeprecationWarning)\n"
     ]
    }
   ],
   "source": [
    "import pandas as pd\n",
    "import numpy as np\n",
    "import matplotlib.pyplot as plt\n",
    "from sklearn.tree import DecisionTreeRegressor\n",
    "from sklearn import metrics\n",
    "from sklearn.cross_validation import cross_val_score\n",
    "from sklearn.ensemble import BaggingRegressor, RandomForestRegressor, RandomForestClassifier\n",
    "from sklearn.tree import DecisionTreeClassifier\n",
    "from sklearn.datasets import make_classification\n",
    "%matplotlib inline"
   ]
  },
  {
   "cell_type": "code",
   "execution_count": 2,
   "metadata": {
    "collapsed": true
   },
   "outputs": [],
   "source": [
    "#path_to_file = './datasets/GlobalDataset2017.csv'\n",
    "Global = pd.read_csv(\"./datasets/GlobalDataset2017.csv\")"
   ]
  },
  {
   "cell_type": "code",
   "execution_count": 3,
   "metadata": {},
   "outputs": [
    {
     "data": {
      "text/plain": [
       "(47102, 58)"
      ]
     },
     "execution_count": 3,
     "metadata": {},
     "output_type": "execute_result"
    }
   ],
   "source": [
    "Global.shape"
   ]
  },
  {
   "cell_type": "code",
   "execution_count": 4,
   "metadata": {},
   "outputs": [
    {
     "data": {
      "text/plain": [
       "yearOfRegistration                         int64\n",
       "Datasource                                object\n",
       "gender                                    object\n",
       "ageBroad                                  object\n",
       "majorityStatus                            object\n",
       "majorityStatusAtExploit                   object\n",
       "majorityEntry                             object\n",
       "citizenship                               object\n",
       "meansOfControlDebtBondage                  int64\n",
       "meansOfControlTakesEarnings                int64\n",
       "meansOfControlRestrictsFinancialAccess     int64\n",
       "meansOfControlThreats                      int64\n",
       "meansOfControlPsychologicalAbuse           int64\n",
       "meansOfControlPhysicalAbuse                int64\n",
       "meansOfControlSexualAbuse                  int64\n",
       "meansOfControlFalsePromises                int64\n",
       "meansOfControlPsychoactiveSubstances       int64\n",
       "meansOfControlRestrictsMovement            int64\n",
       "meansOfControlRestrictsMedicalCare         int64\n",
       "meansOfControlExcessiveWorkingHours        int64\n",
       "meansOfControlUsesChildren                 int64\n",
       "meansOfControlThreatOfLawEnforcement       int64\n",
       "meansOfControlWithholdsNecessities         int64\n",
       "meansOfControlWithholdsDocuments           int64\n",
       "meansOfControlOther                        int64\n",
       "meansOfControlNotSpecified                 int64\n",
       "isForcedLabour                             int64\n",
       "isSexualExploit                            int64\n",
       "isOtherExploit                             int64\n",
       "isSexAndLabour                             int64\n",
       "isForcedMarriage                           int64\n",
       "isForcedMilitary                           int64\n",
       "isOrganRemoval                             int64\n",
       "typeOfLabourAgriculture                    int64\n",
       "typeOfLabourAquafarming                    int64\n",
       "typeOfLabourBegging                        int64\n",
       "typeOfLabourConstruction                   int64\n",
       "typeOfLabourDomesticWork                   int64\n",
       "typeOfLabourHospitality                    int64\n",
       "typeOfLabourIllicitActivities              int64\n",
       "typeOfLabourManufacturing                  int64\n",
       "typeOfLabourMiningOrDrilling               int64\n",
       "typeOfLabourPeddling                       int64\n",
       "typeOfLabourTransportation                 int64\n",
       "typeOfLabourOther                          int64\n",
       "typeOfLabourNotSpecified                   int64\n",
       "typeOfSexProstitution                      int64\n",
       "typeOfSexPornography                       int64\n",
       "typeOfSexRemoteInteractiveServices         int64\n",
       "typeOfSexPrivateSexualServices             int64\n",
       "isAbduction                                int64\n",
       "RecruiterRelationship                     object\n",
       "CountryOfExploitation                     object\n",
       "recruiterRelationIntimatePartner           int64\n",
       "recruiterRelationFriend                    int64\n",
       "recruiterRelationFamily                    int64\n",
       "recruiterRelationOther                     int64\n",
       "recruiterRelationUnknown                   int64\n",
       "dtype: object"
      ]
     },
     "execution_count": 4,
     "metadata": {},
     "output_type": "execute_result"
    }
   ],
   "source": [
    "Global.dtypes"
   ]
  },
  {
   "cell_type": "code",
   "execution_count": 5,
   "metadata": {},
   "outputs": [
    {
     "data": {
      "text/plain": [
       "yearOfRegistration                            0\n",
       "Datasource                                    0\n",
       "gender                                        0\n",
       "ageBroad                                      0\n",
       "majorityStatus                                0\n",
       "majorityStatusAtExploit                       0\n",
       "majorityEntry                                 0\n",
       "citizenship                                   0\n",
       "meansOfControlDebtBondage                 46096\n",
       "meansOfControlTakesEarnings               44853\n",
       "meansOfControlRestrictsFinancialAccess    46982\n",
       "meansOfControlThreats                     44376\n",
       "meansOfControlPsychologicalAbuse          43740\n",
       "meansOfControlPhysicalAbuse               44522\n",
       "meansOfControlSexualAbuse                 46150\n",
       "meansOfControlFalsePromises               44510\n",
       "meansOfControlPsychoactiveSubstances      45748\n",
       "meansOfControlRestrictsMovement           44099\n",
       "meansOfControlRestrictsMedicalCare        46169\n",
       "meansOfControlExcessiveWorkingHours       45539\n",
       "meansOfControlUsesChildren                46993\n",
       "meansOfControlThreatOfLawEnforcement      46503\n",
       "meansOfControlWithholdsNecessities        45994\n",
       "meansOfControlWithholdsDocuments          46682\n",
       "meansOfControlOther                       45613\n",
       "meansOfControlNotSpecified                11872\n",
       "isForcedLabour                            23883\n",
       "isSexualExploit                           25957\n",
       "isOtherExploit                            18619\n",
       "isSexAndLabour                            26360\n",
       "isForcedMarriage                          36693\n",
       "isForcedMilitary                          36348\n",
       "isOrganRemoval                            36348\n",
       "typeOfLabourAgriculture                   28382\n",
       "typeOfLabourAquafarming                   28411\n",
       "typeOfLabourBegging                       28424\n",
       "typeOfLabourConstruction                  28102\n",
       "typeOfLabourDomesticWork                  26320\n",
       "typeOfLabourHospitality                   27208\n",
       "typeOfLabourIllicitActivities             28424\n",
       "typeOfLabourManufacturing                 28312\n",
       "typeOfLabourMiningOrDrilling              28424\n",
       "typeOfLabourPeddling                      28424\n",
       "typeOfLabourTransportation                28424\n",
       "typeOfLabourOther                         27203\n",
       "typeOfLabourNotSpecified                  27038\n",
       "typeOfSexProstitution                     28092\n",
       "typeOfSexPornography                      40841\n",
       "typeOfSexRemoteInteractiveServices        40841\n",
       "typeOfSexPrivateSexualServices            40841\n",
       "isAbduction                               32201\n",
       "RecruiterRelationship                         0\n",
       "CountryOfExploitation                         0\n",
       "recruiterRelationIntimatePartner           8211\n",
       "recruiterRelationFriend                    8211\n",
       "recruiterRelationFamily                    8211\n",
       "recruiterRelationOther                     8211\n",
       "recruiterRelationUnknown                      0\n",
       "dtype: int64"
      ]
     },
     "execution_count": 5,
     "metadata": {},
     "output_type": "execute_result"
    }
   ],
   "source": [
    "(Global == -99).sum()"
   ]
  },
  {
   "cell_type": "code",
   "execution_count": null,
   "metadata": {
    "collapsed": true
   },
   "outputs": [],
   "source": [
    "feature_cols = [h for h in Global.columns if h != 'isSexualExploit' and h!= 'RecruiterRelationship' \n",
    "               and h!='CountryOfExploitation' and h!='citizenship']\n",
    "feature_cols"
   ]
  },
  {
   "cell_type": "code",
   "execution_count": 35,
   "metadata": {},
   "outputs": [
    {
     "data": {
      "text/plain": [
       "['meansOfControlDebtBondage',\n",
       " 'meansOfControlTakesEarnings',\n",
       " 'meansOfControlRestrictsFinancialAccess',\n",
       " 'meansOfControlThreats',\n",
       " 'meansOfControlPsychologicalAbuse',\n",
       " 'meansOfControlPhysicalAbuse',\n",
       " 'meansOfControlSexualAbuse',\n",
       " 'meansOfControlFalsePromises',\n",
       " 'meansOfControlPsychoactiveSubstances',\n",
       " 'meansOfControlRestrictsMovement',\n",
       " 'meansOfControlRestrictsMedicalCare',\n",
       " 'meansOfControlExcessiveWorkingHours',\n",
       " 'meansOfControlUsesChildren',\n",
       " 'meansOfControlThreatOfLawEnforcement',\n",
       " 'meansOfControlWithholdsNecessities',\n",
       " 'meansOfControlWithholdsDocuments',\n",
       " 'meansOfControlOther']"
      ]
     },
     "execution_count": 35,
     "metadata": {},
     "output_type": "execute_result"
    }
   ],
   "source": [
    "feature_mean = [h for h in Global.columns if h.startswith(\"meansOfControl\") and h !='meansOfControlNotSpecified']\n",
    "feature_mean"
   ]
  },
  {
   "cell_type": "code",
   "execution_count": 36,
   "metadata": {
    "collapsed": true
   },
   "outputs": [],
   "source": [
    "X = Global[feature_mean]\n",
    "y = Global.isSexualExploit"
   ]
  },
  {
   "cell_type": "code",
   "execution_count": 37,
   "metadata": {},
   "outputs": [],
   "source": [
    "# list of values to try for max_depth\n",
    "max_depth_range = range(1, 21)\n",
    "\n",
    "# list to store the average RMSE for each value of max_depth\n",
    "RMSE_scores = []\n",
    "\n",
    "# use 5-fold cross-validation with each value of max_depth\n",
    "\n",
    "for depth in max_depth_range:\n",
    "    treereg = DecisionTreeRegressor(max_depth=depth, random_state=1)\n",
    "    MSE_scores = cross_val_score(treereg, X, y, cv=5, scoring='neg_mean_squared_error')\n",
    "    RMSE_scores.append(np.mean(np.sqrt(-MSE_scores)))"
   ]
  },
  {
   "cell_type": "code",
   "execution_count": 38,
   "metadata": {},
   "outputs": [
    {
     "data": {
      "image/png": "[encoded data removed]",
      "text/plain": [
       "<matplotlib.figure.Figure at 0x12a9e518>"
      ]
     },
     "metadata": {},
     "output_type": "display_data"
    }
   ],
   "source": [
    "plt.figure(figsize=(10, 7))\n",
    "plt.plot(max_depth_range, RMSE_scores, linewidth = 6)\n",
    "plt.xlabel('max_depth')\n",
    "plt.ylabel('RMSE')\n",
    "plt.show()"
   ]
  },
  {
   "cell_type": "code",
   "execution_count": 39,
   "metadata": {},
   "outputs": [
    {
     "data": {
      "text/plain": [
       "(46.454181328639777, 13)"
      ]
     },
     "execution_count": 39,
     "metadata": {},
     "output_type": "execute_result"
    }
   ],
   "source": [
    "# show the best RMSE and the corresponding max_depth\n",
    "sorted(zip(RMSE_scores, max_depth_range))[0]"
   ]
  },
  {
   "cell_type": "code",
   "execution_count": 41,
   "metadata": {},
   "outputs": [
    {
     "data": {
      "text/plain": [
       "DecisionTreeRegressor(criterion='mse', max_depth=13, max_features=None,\n",
       "           max_leaf_nodes=None, min_impurity_decrease=0.0,\n",
       "           min_impurity_split=None, min_samples_leaf=1,\n",
       "           min_samples_split=2, min_weight_fraction_leaf=0.0,\n",
       "           presort=False, random_state=1, splitter='best')"
      ]
     },
     "execution_count": 41,
     "metadata": {},
     "output_type": "execute_result"
    }
   ],
   "source": [
    "treereg = DecisionTreeRegressor(max_depth=13, random_state=1)\n",
    "treereg.fit(X, y)"
   ]
  },
  {
   "cell_type": "code",
   "execution_count": 42,
   "metadata": {},
   "outputs": [
    {
     "data": {
      "text/html": [
       "<div>\n",
       "<style>\n",
       "    .dataframe thead tr:only-child th {\n",
       "        text-align: right;\n",
       "    }\n",
       "\n",
       "    .dataframe thead th {\n",
       "        text-align: left;\n",
       "    }\n",
       "\n",
       "    .dataframe tbody tr th {\n",
       "        vertical-align: top;\n",
       "    }\n",
       "</style>\n",
       "<table border=\"1\" class=\"dataframe\">\n",
       "  <thead>\n",
       "    <tr style=\"text-align: right;\">\n",
       "      <th></th>\n",
       "      <th>feature</th>\n",
       "      <th>importance</th>\n",
       "    </tr>\n",
       "  </thead>\n",
       "  <tbody>\n",
       "    <tr>\n",
       "      <th>4</th>\n",
       "      <td>meansOfControlPsychologicalAbuse</td>\n",
       "      <td>0.431327</td>\n",
       "    </tr>\n",
       "    <tr>\n",
       "      <th>9</th>\n",
       "      <td>meansOfControlRestrictsMovement</td>\n",
       "      <td>0.183486</td>\n",
       "    </tr>\n",
       "    <tr>\n",
       "      <th>5</th>\n",
       "      <td>meansOfControlPhysicalAbuse</td>\n",
       "      <td>0.119236</td>\n",
       "    </tr>\n",
       "    <tr>\n",
       "      <th>8</th>\n",
       "      <td>meansOfControlPsychoactiveSubstances</td>\n",
       "      <td>0.081053</td>\n",
       "    </tr>\n",
       "    <tr>\n",
       "      <th>3</th>\n",
       "      <td>meansOfControlThreats</td>\n",
       "      <td>0.064919</td>\n",
       "    </tr>\n",
       "    <tr>\n",
       "      <th>1</th>\n",
       "      <td>meansOfControlTakesEarnings</td>\n",
       "      <td>0.041274</td>\n",
       "    </tr>\n",
       "    <tr>\n",
       "      <th>16</th>\n",
       "      <td>meansOfControlOther</td>\n",
       "      <td>0.024411</td>\n",
       "    </tr>\n",
       "    <tr>\n",
       "      <th>7</th>\n",
       "      <td>meansOfControlFalsePromises</td>\n",
       "      <td>0.016863</td>\n",
       "    </tr>\n",
       "    <tr>\n",
       "      <th>6</th>\n",
       "      <td>meansOfControlSexualAbuse</td>\n",
       "      <td>0.012653</td>\n",
       "    </tr>\n",
       "    <tr>\n",
       "      <th>14</th>\n",
       "      <td>meansOfControlWithholdsNecessities</td>\n",
       "      <td>0.007618</td>\n",
       "    </tr>\n",
       "    <tr>\n",
       "      <th>0</th>\n",
       "      <td>meansOfControlDebtBondage</td>\n",
       "      <td>0.004989</td>\n",
       "    </tr>\n",
       "    <tr>\n",
       "      <th>15</th>\n",
       "      <td>meansOfControlWithholdsDocuments</td>\n",
       "      <td>0.004459</td>\n",
       "    </tr>\n",
       "    <tr>\n",
       "      <th>11</th>\n",
       "      <td>meansOfControlExcessiveWorkingHours</td>\n",
       "      <td>0.003878</td>\n",
       "    </tr>\n",
       "    <tr>\n",
       "      <th>13</th>\n",
       "      <td>meansOfControlThreatOfLawEnforcement</td>\n",
       "      <td>0.002637</td>\n",
       "    </tr>\n",
       "    <tr>\n",
       "      <th>2</th>\n",
       "      <td>meansOfControlRestrictsFinancialAccess</td>\n",
       "      <td>0.000591</td>\n",
       "    </tr>\n",
       "    <tr>\n",
       "      <th>10</th>\n",
       "      <td>meansOfControlRestrictsMedicalCare</td>\n",
       "      <td>0.000459</td>\n",
       "    </tr>\n",
       "    <tr>\n",
       "      <th>12</th>\n",
       "      <td>meansOfControlUsesChildren</td>\n",
       "      <td>0.000147</td>\n",
       "    </tr>\n",
       "  </tbody>\n",
       "</table>\n",
       "</div>"
      ],
      "text/plain": [
       "                                   feature  importance\n",
       "4         meansOfControlPsychologicalAbuse    0.431327\n",
       "9          meansOfControlRestrictsMovement    0.183486\n",
       "5              meansOfControlPhysicalAbuse    0.119236\n",
       "8     meansOfControlPsychoactiveSubstances    0.081053\n",
       "3                    meansOfControlThreats    0.064919\n",
       "1              meansOfControlTakesEarnings    0.041274\n",
       "16                     meansOfControlOther    0.024411\n",
       "7              meansOfControlFalsePromises    0.016863\n",
       "6                meansOfControlSexualAbuse    0.012653\n",
       "14      meansOfControlWithholdsNecessities    0.007618\n",
       "0                meansOfControlDebtBondage    0.004989\n",
       "15        meansOfControlWithholdsDocuments    0.004459\n",
       "11     meansOfControlExcessiveWorkingHours    0.003878\n",
       "13    meansOfControlThreatOfLawEnforcement    0.002637\n",
       "2   meansOfControlRestrictsFinancialAccess    0.000591\n",
       "10      meansOfControlRestrictsMedicalCare    0.000459\n",
       "12              meansOfControlUsesChildren    0.000147"
      ]
     },
     "execution_count": 42,
     "metadata": {},
     "output_type": "execute_result"
    }
   ],
   "source": [
    "pd.DataFrame({'feature':feature_mean, \n",
    "              'importance':treereg.feature_importances_}).sort_values('importance', ascending = False)"
   ]
  },
  {
   "cell_type": "code",
   "execution_count": 43,
   "metadata": {},
   "outputs": [
    {
     "data": {
      "text/plain": [
       "RandomForestRegressor(bootstrap=True, criterion='mse', max_depth=None,\n",
       "           max_features='auto', max_leaf_nodes=None,\n",
       "           min_impurity_decrease=0.0, min_impurity_split=None,\n",
       "           min_samples_leaf=1, min_samples_split=2,\n",
       "           min_weight_fraction_leaf=0.0, n_estimators=10, n_jobs=1,\n",
       "           oob_score=False, random_state=None, verbose=0, warm_start=False)"
      ]
     },
     "execution_count": 43,
     "metadata": {},
     "output_type": "execute_result"
    }
   ],
   "source": [
    "#Intialize\n",
    "rfreg = RandomForestRegressor()\n",
    "#Show model details\n",
    "rfreg"
   ]
  },
  {
   "cell_type": "code",
   "execution_count": 44,
   "metadata": {},
   "outputs": [],
   "source": [
    "estimator_range = range(10, 210, 10)\n",
    "\n",
    "# list to store the average RMSE for each value of n_estimators\n",
    "RMSE_scores = []\n",
    "\n",
    "# use 5-fold cross-validation with each value of n_estimators. Will take a while.\n",
    "\n",
    "for estimator in estimator_range:\n",
    "    rfreg = RandomForestRegressor(n_estimators=estimator, random_state=1)\n",
    "    MSE_scores = cross_val_score(rfreg, X, y, cv=5, scoring='neg_mean_squared_error')\n",
    "    RMSE_scores.append(np.mean(np.sqrt(-MSE_scores)))"
   ]
  },
  {
   "cell_type": "code",
   "execution_count": 45,
   "metadata": {},
   "outputs": [
    {
     "data": {
      "image/png": "[encoded data removed]",
      "text/plain": [
       "<matplotlib.figure.Figure at 0x129fbe80>"
      ]
     },
     "metadata": {},
     "output_type": "display_data"
    }
   ],
   "source": [
    "# plot n_estimators (x-axis) versus RMSE (y-axis)\n",
    "plt.figure(figsize=(10, 7))\n",
    "plt.plot(estimator_range, RMSE_scores)\n",
    "plt.xlabel('n_estimators')\n",
    "plt.ylabel('RMSE');"
   ]
  },
  {
   "cell_type": "code",
   "execution_count": 46,
   "metadata": {},
   "outputs": [
    {
     "data": {
      "text/plain": [
       "(46.39003673621967, 190)"
      ]
     },
     "execution_count": 46,
     "metadata": {},
     "output_type": "execute_result"
    }
   ],
   "source": [
    "#Best estimator\n",
    "sorted(zip(RMSE_scores, estimator_range))[0]"
   ]
  },
  {
   "cell_type": "code",
   "execution_count": 47,
   "metadata": {
    "collapsed": true
   },
   "outputs": [],
   "source": [
    "# list of values to try for max_features\n",
    "feature_range = range(1, len(feature_mean)+1)\n",
    "\n",
    "# list to store the average RMSE for each value of max_features\n",
    "RMSE_scores = []\n",
    "\n",
    "# use 5-fold cross-validation with each value of max_features (WARNING: SLOW!)\n",
    "for feature in feature_range:\n",
    "    rfreg = RandomForestRegressor(n_estimators=190, max_features=feature, random_state=1)\n",
    "    MSE_scores = cross_val_score(rfreg, X, y, cv=5, scoring='neg_mean_squared_error')\n",
    "    RMSE_scores.append(np.mean(np.sqrt(-MSE_scores)))"
   ]
  },
  {
   "cell_type": "code",
   "execution_count": 48,
   "metadata": {},
   "outputs": [
    {
     "data": {
      "image/png": "[encoded data removed]",
      "text/plain": [
       "<matplotlib.figure.Figure at 0x11fc84e0>"
      ]
     },
     "metadata": {},
     "output_type": "display_data"
    }
   ],
   "source": [
    "# plot max_features (x-axis) versus RMSE (y-axis)\n",
    "plt.figure(figsize=(10, 7))\n",
    "plt.plot(feature_range, RMSE_scores)\n",
    "plt.xlabel('max_features')\n",
    "plt.ylabel('RMSE');"
   ]
  },
  {
   "cell_type": "code",
   "execution_count": 49,
   "metadata": {},
   "outputs": [
    {
     "data": {
      "text/plain": [
       "(46.361851143016303, 2)"
      ]
     },
     "execution_count": 49,
     "metadata": {},
     "output_type": "execute_result"
    }
   ],
   "source": [
    "# show the best RMSE and the corresponding max_features\n",
    "sorted(zip(RMSE_scores, feature_range))[0]"
   ]
  },
  {
   "cell_type": "code",
   "execution_count": 51,
   "metadata": {},
   "outputs": [
    {
     "data": {
      "text/plain": [
       "RandomForestRegressor(bootstrap=True, criterion='mse', max_depth=None,\n",
       "           max_features=2, max_leaf_nodes=None, min_impurity_decrease=0.0,\n",
       "           min_impurity_split=None, min_samples_leaf=1,\n",
       "           min_samples_split=2, min_weight_fraction_leaf=0.0,\n",
       "           n_estimators=190, n_jobs=1, oob_score=True, random_state=1,\n",
       "           verbose=0, warm_start=False)"
      ]
     },
     "execution_count": 51,
     "metadata": {},
     "output_type": "execute_result"
    }
   ],
   "source": [
    "# max_features=6 is best and n_estimators=190 is sufficiently large\n",
    "rfreg = RandomForestRegressor(n_estimators=190, \n",
    "                              max_features=2,\n",
    "                              oob_score=True,\n",
    "                              random_state=1)\n",
    "rfreg.fit(X, y)"
   ]
  },
  {
   "cell_type": "code",
   "execution_count": 53,
   "metadata": {},
   "outputs": [
    {
     "data": {
      "text/html": [
       "<div>\n",
       "<style>\n",
       "    .dataframe thead tr:only-child th {\n",
       "        text-align: right;\n",
       "    }\n",
       "\n",
       "    .dataframe thead th {\n",
       "        text-align: left;\n",
       "    }\n",
       "\n",
       "    .dataframe tbody tr th {\n",
       "        vertical-align: top;\n",
       "    }\n",
       "</style>\n",
       "<table border=\"1\" class=\"dataframe\">\n",
       "  <thead>\n",
       "    <tr style=\"text-align: right;\">\n",
       "      <th></th>\n",
       "      <th>feature</th>\n",
       "      <th>importance</th>\n",
       "    </tr>\n",
       "  </thead>\n",
       "  <tbody>\n",
       "    <tr>\n",
       "      <th>4</th>\n",
       "      <td>meansOfControlPsychologicalAbuse</td>\n",
       "      <td>0.203210</td>\n",
       "    </tr>\n",
       "    <tr>\n",
       "      <th>5</th>\n",
       "      <td>meansOfControlPhysicalAbuse</td>\n",
       "      <td>0.134720</td>\n",
       "    </tr>\n",
       "    <tr>\n",
       "      <th>9</th>\n",
       "      <td>meansOfControlRestrictsMovement</td>\n",
       "      <td>0.133214</td>\n",
       "    </tr>\n",
       "    <tr>\n",
       "      <th>3</th>\n",
       "      <td>meansOfControlThreats</td>\n",
       "      <td>0.119180</td>\n",
       "    </tr>\n",
       "    <tr>\n",
       "      <th>1</th>\n",
       "      <td>meansOfControlTakesEarnings</td>\n",
       "      <td>0.097864</td>\n",
       "    </tr>\n",
       "    <tr>\n",
       "      <th>8</th>\n",
       "      <td>meansOfControlPsychoactiveSubstances</td>\n",
       "      <td>0.090729</td>\n",
       "    </tr>\n",
       "    <tr>\n",
       "      <th>16</th>\n",
       "      <td>meansOfControlOther</td>\n",
       "      <td>0.057538</td>\n",
       "    </tr>\n",
       "    <tr>\n",
       "      <th>11</th>\n",
       "      <td>meansOfControlExcessiveWorkingHours</td>\n",
       "      <td>0.034077</td>\n",
       "    </tr>\n",
       "    <tr>\n",
       "      <th>6</th>\n",
       "      <td>meansOfControlSexualAbuse</td>\n",
       "      <td>0.033726</td>\n",
       "    </tr>\n",
       "    <tr>\n",
       "      <th>7</th>\n",
       "      <td>meansOfControlFalsePromises</td>\n",
       "      <td>0.025237</td>\n",
       "    </tr>\n",
       "    <tr>\n",
       "      <th>14</th>\n",
       "      <td>meansOfControlWithholdsNecessities</td>\n",
       "      <td>0.024918</td>\n",
       "    </tr>\n",
       "    <tr>\n",
       "      <th>0</th>\n",
       "      <td>meansOfControlDebtBondage</td>\n",
       "      <td>0.016865</td>\n",
       "    </tr>\n",
       "    <tr>\n",
       "      <th>10</th>\n",
       "      <td>meansOfControlRestrictsMedicalCare</td>\n",
       "      <td>0.009192</td>\n",
       "    </tr>\n",
       "    <tr>\n",
       "      <th>15</th>\n",
       "      <td>meansOfControlWithholdsDocuments</td>\n",
       "      <td>0.007958</td>\n",
       "    </tr>\n",
       "    <tr>\n",
       "      <th>13</th>\n",
       "      <td>meansOfControlThreatOfLawEnforcement</td>\n",
       "      <td>0.007521</td>\n",
       "    </tr>\n",
       "    <tr>\n",
       "      <th>2</th>\n",
       "      <td>meansOfControlRestrictsFinancialAccess</td>\n",
       "      <td>0.002030</td>\n",
       "    </tr>\n",
       "    <tr>\n",
       "      <th>12</th>\n",
       "      <td>meansOfControlUsesChildren</td>\n",
       "      <td>0.002022</td>\n",
       "    </tr>\n",
       "  </tbody>\n",
       "</table>\n",
       "</div>"
      ],
      "text/plain": [
       "                                   feature  importance\n",
       "4         meansOfControlPsychologicalAbuse    0.203210\n",
       "5              meansOfControlPhysicalAbuse    0.134720\n",
       "9          meansOfControlRestrictsMovement    0.133214\n",
       "3                    meansOfControlThreats    0.119180\n",
       "1              meansOfControlTakesEarnings    0.097864\n",
       "8     meansOfControlPsychoactiveSubstances    0.090729\n",
       "16                     meansOfControlOther    0.057538\n",
       "11     meansOfControlExcessiveWorkingHours    0.034077\n",
       "6                meansOfControlSexualAbuse    0.033726\n",
       "7              meansOfControlFalsePromises    0.025237\n",
       "14      meansOfControlWithholdsNecessities    0.024918\n",
       "0                meansOfControlDebtBondage    0.016865\n",
       "10      meansOfControlRestrictsMedicalCare    0.009192\n",
       "15        meansOfControlWithholdsDocuments    0.007958\n",
       "13    meansOfControlThreatOfLawEnforcement    0.007521\n",
       "2   meansOfControlRestrictsFinancialAccess    0.002030\n",
       "12              meansOfControlUsesChildren    0.002022"
      ]
     },
     "execution_count": 53,
     "metadata": {},
     "output_type": "execute_result"
    }
   ],
   "source": [
    "# compute feature importances\n",
    "pd.DataFrame({'feature':feature_mean,\n",
    "              'importance':rfreg.feature_importances_}).sort_values('importance', ascending = False)"
   ]
  },
  {
   "cell_type": "code",
   "execution_count": null,
   "metadata": {
    "collapsed": true
   },
   "outputs": [],
   "source": []
  }
 ],
 "metadata": {
  "kernelspec": {
   "display_name": "Python 2",
   "language": "python",
   "name": "python2"
  },
  "language_info": {
   "codemirror_mode": {
    "name": "ipython",
    "version": 2
   },
   "file_extension": ".py",
   "mimetype": "text/x-python",
   "name": "python",
   "nbconvert_exporter": "python",
   "pygments_lexer": "ipython2",
   "version": "2.7.14"
  }
 },
 "nbformat": 4,
 "nbformat_minor": 2
}
